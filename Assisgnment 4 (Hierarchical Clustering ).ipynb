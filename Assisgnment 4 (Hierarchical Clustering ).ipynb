{
 "cells": [
  {
   "cell_type": "code",
   "execution_count": 6,
   "metadata": {},
   "outputs": [],
   "source": [
    "import pandas as pd\n",
    "import numpy as np\n",
    "import matplotlib.pylab as plt\n",
    "from sklearn.cluster import KMeans\n",
    "from scipy.spatial.distance import cdist "
   ]
  },
  {
   "cell_type": "code",
   "execution_count": 7,
   "metadata": {},
   "outputs": [
    {
     "data": {
      "text/html": [
       "<div>\n",
       "<style scoped>\n",
       "    .dataframe tbody tr th:only-of-type {\n",
       "        vertical-align: middle;\n",
       "    }\n",
       "\n",
       "    .dataframe tbody tr th {\n",
       "        vertical-align: top;\n",
       "    }\n",
       "\n",
       "    .dataframe thead th {\n",
       "        text-align: right;\n",
       "    }\n",
       "</style>\n",
       "<table border=\"1\" class=\"dataframe\">\n",
       "  <thead>\n",
       "    <tr style=\"text-align: right;\">\n",
       "      <th></th>\n",
       "      <th>States</th>\n",
       "      <th>Murder</th>\n",
       "      <th>Assault</th>\n",
       "      <th>UrbanPop</th>\n",
       "      <th>Rape</th>\n",
       "    </tr>\n",
       "  </thead>\n",
       "  <tbody>\n",
       "    <tr>\n",
       "      <td>0</td>\n",
       "      <td>Alabama</td>\n",
       "      <td>13.2</td>\n",
       "      <td>236</td>\n",
       "      <td>58</td>\n",
       "      <td>21.2</td>\n",
       "    </tr>\n",
       "    <tr>\n",
       "      <td>1</td>\n",
       "      <td>Alaska</td>\n",
       "      <td>10.0</td>\n",
       "      <td>263</td>\n",
       "      <td>48</td>\n",
       "      <td>44.5</td>\n",
       "    </tr>\n",
       "    <tr>\n",
       "      <td>2</td>\n",
       "      <td>Arizona</td>\n",
       "      <td>8.1</td>\n",
       "      <td>294</td>\n",
       "      <td>80</td>\n",
       "      <td>31.0</td>\n",
       "    </tr>\n",
       "    <tr>\n",
       "      <td>3</td>\n",
       "      <td>Arkansas</td>\n",
       "      <td>8.8</td>\n",
       "      <td>190</td>\n",
       "      <td>50</td>\n",
       "      <td>19.5</td>\n",
       "    </tr>\n",
       "    <tr>\n",
       "      <td>4</td>\n",
       "      <td>California</td>\n",
       "      <td>9.0</td>\n",
       "      <td>276</td>\n",
       "      <td>91</td>\n",
       "      <td>40.6</td>\n",
       "    </tr>\n",
       "  </tbody>\n",
       "</table>\n",
       "</div>"
      ],
      "text/plain": [
       "       States  Murder  Assault  UrbanPop  Rape\n",
       "0     Alabama    13.2      236        58  21.2\n",
       "1      Alaska    10.0      263        48  44.5\n",
       "2     Arizona     8.1      294        80  31.0\n",
       "3    Arkansas     8.8      190        50  19.5\n",
       "4  California     9.0      276        91  40.6"
      ]
     },
     "execution_count": 7,
     "metadata": {},
     "output_type": "execute_result"
    }
   ],
   "source": [
    "crimedata = pd.read_csv(\"C:\\\\Users\\Vijay\\\\Desktop\\\\DATA SCIENCE\\\\ASSISGNMENTS\\\\Assisgnment 4 (Clustering)\\\\crime_data.csv\")\n",
    "crimedata.head()"
   ]
  },
  {
   "cell_type": "code",
   "execution_count": 8,
   "metadata": {},
   "outputs": [],
   "source": [
    "#Normalization\n",
    "def norm_func(i):\n",
    "    x = (i-i.min())\t/\t(i.max()\t-\ti.min())\n",
    "    return (x)\n",
    "\n",
    "crime_norm=norm_func(crimedata.iloc[:,1:])"
   ]
  },
  {
   "cell_type": "code",
   "execution_count": 9,
   "metadata": {},
   "outputs": [
    {
     "data": {
      "text/plain": [
       "([<matplotlib.axis.XTick at 0x2263660ca48>,\n",
       "  <matplotlib.axis.XTick at 0x2263660c108>,\n",
       "  <matplotlib.axis.XTick at 0x2263660ab08>,\n",
       "  <matplotlib.axis.XTick at 0x22636634248>,\n",
       "  <matplotlib.axis.XTick at 0x22636634608>,\n",
       "  <matplotlib.axis.XTick at 0x226366391c8>,\n",
       "  <matplotlib.axis.XTick at 0x22636639808>,\n",
       "  <matplotlib.axis.XTick at 0x2263663d188>,\n",
       "  <matplotlib.axis.XTick at 0x2263663dac8>,\n",
       "  <matplotlib.axis.XTick at 0x22636643448>,\n",
       "  <matplotlib.axis.XTick at 0x22636643e48>,\n",
       "  <matplotlib.axis.XTick at 0x226366478c8>,\n",
       "  <matplotlib.axis.XTick at 0x22636643508>,\n",
       "  <matplotlib.axis.XTick at 0x22636622748>],\n",
       " <a list of 14 Text xticklabel objects>)"
      ]
     },
     "execution_count": 9,
     "metadata": {},
     "output_type": "execute_result"
    },
    {
     "data": {
      "image/png": "[encoded data removed]",
      "text/plain": [
       "<Figure size 432x288 with 1 Axes>"
      ]
     },
     "metadata": {
      "needs_background": "light"
     },
     "output_type": "display_data"
    }
   ],
   "source": [
    "##Find the optimal value of clusters(k)using screen plot(elbow method)####\n",
    "k=list(range(2,16))\n",
    "TWSS= []\n",
    "for i in k:\n",
    "    kmeans= KMeans(n_clusters=i)\n",
    "    kmeans.fit(crime_norm)\n",
    "    WSS= []\n",
    "    for j in range (i):\n",
    "         WSS.append(sum(cdist(crime_norm.iloc[kmeans.labels_==j,:],kmeans.cluster_centers_[j].reshape(1,crime_norm.shape[1]),\"euclidean\")))\n",
    "    TWSS.append(sum(WSS))\n",
    "    \n",
    "plt.plot(k,TWSS, 'ro-');plt.xlabel(\"No_of_Clusters\");plt.ylabel(\"total_within_SS\");plt.xticks(k)   "
   ]
  },
  {
   "cell_type": "code",
   "execution_count": 10,
   "metadata": {},
   "outputs": [
    {
     "data": {
      "text/plain": [
       "3    12\n",
       "0    12\n",
       "4    10\n",
       "1     9\n",
       "2     7\n",
       "Name: cluster, dtype: int64"
      ]
     },
     "execution_count": 10,
     "metadata": {},
     "output_type": "execute_result"
    },
    {
     "data": {
      "image/png": "[encoded data removed]",
      "text/plain": [
       "<Figure size 432x288 with 1 Axes>"
      ]
     },
     "metadata": {
      "needs_background": "light"
     },
     "output_type": "display_data"
    }
   ],
   "source": [
    "##Selected k=5 from screen plot ###\n",
    "model= KMeans(n_clusters=5)    \n",
    "model.fit(crime_norm)    \n",
    "model.labels_    \n",
    "cr=pd.Series(model.labels_)  \n",
    "crimedata['cluster']=cr    \n",
    "crimedata=crimedata.iloc[:,[5,0,1,2,3,4]]    \n",
    "crimedata.iloc[:,[1,2,3,4,5]].groupby(crimedata.cluster).mean().plot(kind=\"bar\")  \n",
    "crimedata.cluster.value_counts()"
   ]
  },
  {
   "cell_type": "code",
   "execution_count": null,
   "metadata": {},
   "outputs": [],
   "source": [
    "##Inferences from the clusters:-\n",
    "##The American states with a higher urban population in cluster 1 and 0 have highest assult rate and rape rate \n",
    "##On the contary, all the attibutes are lowest on the cluster 2 where the urban population is also the lowest\n",
    "##Urban population is directly propotional to all the crime rates\n",
    "## Higher the assault rate, higher will be the rape rate in these american states.  "
   ]
  }
 ],
 "metadata": {
  "kernelspec": {
   "display_name": "Python 3",
   "language": "python",
   "name": "python3"
  },
  "language_info": {
   "codemirror_mode": {
    "name": "ipython",
    "version": 3
   },
   "file_extension": ".py",
   "mimetype": "text/x-python",
   "name": "python",
   "nbconvert_exporter": "python",
   "pygments_lexer": "ipython3",
   "version": "3.7.4"
  }
 },
 "nbformat": 4,
 "nbformat_minor": 2
}
